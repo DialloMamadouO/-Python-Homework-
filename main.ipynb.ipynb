{
 "cells": [
  {
   "cell_type": "code",
   "execution_count": 4,
   "metadata": {},
   "outputs": [],
   "source": [
    "# Creating a Python script that analyses the records to calculate each of the following\n",
    "\n",
    "# Import the pathlib and csv library\n",
    "from pathlib import Path\n",
    "import csv"
   ]
  },
  {
   "cell_type": "code",
   "execution_count": 11,
   "metadata": {},
   "outputs": [],
   "source": [
    "# Set the file path\n",
    "csvpath = Path(\"../PyBank/PyBank_Resources_budget_data.csv\")\n",
    "csvfile_to_output = Path(\"../PyBank/main.txt\")"
   ]
  },
  {
   "cell_type": "code",
   "execution_count": 14,
   "metadata": {},
   "outputs": [],
   "source": [
    "# Initialize racords\n",
    "\n",
    "total_months = 0\n",
    "month_of_change = []\n",
    "net_change_list = []\n",
    "greatest_increase = [\"\", 0]\n",
    "greatest_decrease = [\"\", 999999]\n",
    "total_net = 0"
   ]
  },
  {
   "cell_type": "code",
   "execution_count": 22,
   "metadata": {},
   "outputs": [],
   "source": [
    "# Open the csv file as object\n",
    "\n",
    "with open(csvpath, 'r') as csvfile:\n",
    "    # Pass in the csv file to the csv.reader() function and return the csvreader object\n",
    "    reader = csv.reader(csvfile, delimiter=',')\n",
    "   \n",
    "  # Read the header row\n",
    "    header = next(reader)\n",
    "    \n",
    "    # Extract first row\n",
    "    first_row = next(reader)\n",
    "    total_months = total_months + 1\n",
    "    total_net = total_net + int(first_row[1])\n",
    "    prev_net = int(first_row[1])\n",
    "      \n",
    "    # Total\n",
    "    total_months = total_months + 1\n",
    "    total_net = total_net + int(first_row[1])\n",
    "        \n",
    "        # Net Change\n",
    "    net_change = int(first_row[1]) - prev_net\n",
    "    prev_net = int(first_row[1])\n",
    "    net_change_list = net_change_list + [net_change]\n",
    "    month_of_change = month_of_change + [first_row[0]]\n",
    "        \n",
    "        # Greatest increase\n",
    "    if net_change > greatest_increase[1]:\n",
    "        greatest_increase[0] = int(first_row[0])\n",
    "        greatest_increase[1] = net_change\n",
    "            \n",
    "        # Greatest decrease\n",
    "    if net_change < greatest_decrease[1]:\n",
    "        greatest_decrease[0] = first_row[0]\n",
    "        greatest_decrease[1] = net_change\n",
    "            \n",
    "        # Average net change\n",
    "net_monthly_average = round(sum(net_change_list) / len(net_change_list) , 2)"
   ]
  },
  {
   "cell_type": "code",
   "execution_count": 25,
   "metadata": {},
   "outputs": [],
   "source": [
    "# Export the results to text file \n",
    "with open(csvfile_to_output, \"w+\") as csvfile:\n",
    "    csvfile.write(f\"PyBank/main.ipynb\\n\")\n",
    "    csvfile.write(f\"PyBank/main.ipynb\\n\")\n",
    "    csvfile.write(f\"Total Months: {total_months}\\n\")\n",
    "    csvfile.write(f\"Total: ${total_net}\\n\")\n",
    "    csvfile.write(f\"Average Change: ${net_monthly_average}\\n\")\n",
    "    csvfile.write(f\"Greatest Increase in Profits: {greatest_increase[0]} (${greatest_increase[1]}\\n\")\n",
    "    csvfile.write(f\"Greatest Decrease in profits: {greatest_decrease[0]}(${greatest_decrease[1]})\\n\") "
   ]
  },
  {
   "cell_type": "code",
   "execution_count": null,
   "metadata": {},
   "outputs": [],
   "source": []
  }
 ],
 "metadata": {
  "kernelspec": {
   "display_name": "Python 3",
   "language": "python",
   "name": "python3"
  },
  "language_info": {
   "codemirror_mode": {
    "name": "ipython",
    "version": 3
   },
   "file_extension": ".py",
   "mimetype": "text/x-python",
   "name": "python",
   "nbconvert_exporter": "python",
   "pygments_lexer": "ipython3",
   "version": "3.7.6"
  }
 },
 "nbformat": 4,
 "nbformat_minor": 4
}
