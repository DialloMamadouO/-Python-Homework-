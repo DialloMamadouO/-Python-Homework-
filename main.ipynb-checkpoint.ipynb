{
 "cells": [
  {
   "cell_type": "code",
   "execution_count": null,
   "metadata": {},
   "outputs": [],
   "source": [
    "# Import libraries\n",
    "from pathlib import Path\n",
    "import csv"
   ]
  },
  {
   "cell_type": "code",
   "execution_count": null,
   "metadata": {},
   "outputs": [],
   "source": [
    "# Set file path\n",
    "csvmanupath = Path(\"../../PyRamen/Homework_Python_PyRamen_Resources_menu_data.csv\")\n",
    "csvsalespath = (\"../../PyRamen/Homework_Python_PyRamen_Resources_sales_data.csv\")"
   ]
  },
  {
   "cell_type": "code",
   "execution_count": null,
   "metadata": {},
   "outputs": [],
   "source": [
    "#Initialize list object\n",
    "menu = []\n",
    "sales = []"
   ]
  },
  {
   "cell_type": "code",
   "execution_count": null,
   "metadata": {},
   "outputs": [],
   "source": [
    "# Open the csv file as object\n",
    "with open(csvmanupath) as csvmanufile:\n",
    "    # Pass in the csv file to the csv.reader() function and return the csvreader object\n",
    "    csvreader = csv.reader(csvmanufile, delimiter= ',')"
   ]
  },
  {
   "cell_type": "code",
   "execution_count": null,
   "metadata": {},
   "outputs": [],
   "source": [
    "# Skip header\n",
    "next(reader)"
   ]
  },
  {
   "cell_type": "code",
   "execution_count": null,
   "metadata": {},
   "outputs": [],
   "source": [
    "# Iterate over each row after the header\n",
    "for row in reader\n",
    "manu.append(row)"
   ]
  },
  {
   "cell_type": "code",
   "execution_count": null,
   "metadata": {},
   "outputs": [],
   "source": [
    "# Open the csvsales file as object\n",
    "report = {}"
   ]
  },
  {
   "cell_type": "code",
   "execution_count": null,
   "metadata": {},
   "outputs": [],
   "source": [
    "# Initialize a row counter variable\n",
    "row_count = 0"
   ]
  },
  {
   "cell_type": "code",
   "execution_count": null,
   "metadata": {},
   "outputs": [],
   "source": [
    "# Loop over every row \n",
    "for row in sales \n",
    "print()\n",
    "print(row)"
   ]
  },
  {
   "cell_type": "code",
   "execution_count": null,
   "metadata": {},
   "outputs": [],
   "source": [
    "# Line_item_Id, Date, Credit_Card_Number, Quantity, Manu_Item\n",
    "# Initialize sales data variables\n",
    "quantity = int(row[3])\n",
    "sales_item = row[4]"
   ]
  },
  {
   "cell_type": "code",
   "execution_count": null,
   "metadata": {},
   "outputs": [],
   "source": [
    "# If the item value is not in the report, add it as a new entry with initialize metrics\n",
    "# Keys are ordered in logical fashion count, revenue, cost, profit\n",
    "if sales_item not in report.keys():\n",
    "    report [sales_item] = {\n",
    "            '01-count':  0,\n",
    "            '02-revenue': 0,\n",
    "            '03-cost': 0,\n",
    "            '04-profit': 0,\n",
    "    }\n",
    "# for every row in the sales data, loop over the manu records to determine a match\n",
    "for records in manu:"
   ]
  },
  {
   "cell_type": "code",
   "execution_count": null,
   "metadata": {},
   "outputs": [],
   "source": [
    "=# Item, Category, Description, Price, Cost\n",
    "# Initialize manu data variables\n",
    "item = record[0]\n",
    "price = float(record[3])\n",
    "cost = float(record[4])"
   ]
  },
  {
   "cell_type": "code",
   "execution_count": null,
   "metadata": {},
   "outputs": [],
   "source": [
    "# Calculate profite of each item in the manu data\n",
    "profit = price - cost"
   ]
  },
  {
   "cell_type": "code",
   "execution_count": null,
   "metadata": {},
   "outputs": [],
   "source": []
  },
  {
   "cell_type": "code",
   "execution_count": null,
   "metadata": {},
   "outputs": [],
   "source": [
    "# If the item value in our sales data is equal to any of the items in the manu, then track metrics for that item\n",
    "if sales_item == item\n",
    "\n",
    "# Print out matching manu data\n",
    "    print(f\"Does {sales_item} equal {item}? WE HAVE A MATCH!!!)\n",
    "    print(f\" item: {item}\")\n",
    "    print(f\" price: ${peice}\")\n",
    "    print(f\" cost: ${cost}\")\n",
    "    print(f\" profit: ${profit}\")\n",
    "      "
   ]
  },
  {
   "cell_type": "code",
   "execution_count": null,
   "metadata": {},
   "outputs": [],
   "source": [
    "# Cumilatively add up the metrics for each item key\n",
    "report[sales_ite][\"01 count\"] += quantity\n",
    "report[sales_item][\"02 revenue\"] == price*quantity\n",
    "report[sales_items][\"03 cogs\"] += cost*quantity\n",
    "report[sales_item][\"04 profit\"] += profit*quantity"
   ]
  },
  {
   "cell_type": "code",
   "execution_count": null,
   "metadata": {},
   "outputs": [],
   "source": [
    "# Else the sales_item does not equal to any other item in the many so no match\n",
    "else:\n",
    "    print(\"Does\" sales_item, \"rqual\", record[0], ?\" WOO HOO NO MATCH\")"
   ]
  },
  {
   "cell_type": "code",
   "execution_count": null,
   "metadata": {},
   "outputs": [],
   "source": [
    "# Increment the row counter by 1\n",
    "row_count += 1"
   ]
  },
  {
   "cell_type": "code",
   "execution_count": null,
   "metadata": {},
   "outputs": [],
   "source": [
    "# Print total number of records in sales data\n",
    "print()\n",
    "print(\"Total number of records:\", row_count)\n",
    "print() "
   ]
  },
  {
   "cell_type": "code",
   "execution_count": null,
   "metadata": {},
   "outputs": [],
   "source": [
    "# Write out report to text file\n",
    "with open(\"report,txt\", 'w') as a txt file:\n",
    "    for key, value report.items()"
   ]
  },
  {
   "cell_type": "code",
   "execution_count": null,
   "metadata": {},
   "outputs": [],
   "source": [
    "line = f\"{key} {value}\\n\"\n",
    "txt_file.write(line)"
   ]
  },
  {
   "cell_type": "code",
   "execution_count": null,
   "metadata": {},
   "outputs": [],
   "source": []
  },
  {
   "cell_type": "code",
   "execution_count": null,
   "metadata": {},
   "outputs": [],
   "source": []
  }
 ],
 "metadata": {
  "kernelspec": {
   "display_name": "Python 3",
   "language": "python",
   "name": "python3"
  },
  "language_info": {
   "codemirror_mode": {
    "name": "ipython",
    "version": 3
   },
   "file_extension": ".py",
   "mimetype": "text/x-python",
   "name": "python",
   "nbconvert_exporter": "python",
   "pygments_lexer": "ipython3",
   "version": "3.7.6"
  }
 },
 "nbformat": 4,
 "nbformat_minor": 4
}
